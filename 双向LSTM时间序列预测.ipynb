{
 "cells": [
  {
   "cell_type": "code",
   "execution_count": 6,
   "metadata": {
    "colab": {},
    "colab_type": "code",
    "id": "zX4Kg8DUTKWO"
   },
   "outputs": [],
   "source": [
    "# 模拟生成时间序列\n",
    "# 模拟生成数据集\n",
    "# 搭建两个LSTM神经网络，一个使用LR_scheduler机制调整学习率，另一个不做处理\n",
    "# 结果对比，计算误差loss和平均绝对误差MAE\n",
    "\n",
    "#@title Licensed under the Apache License, Version 2.0 (the \"License\");\n",
    "# you may not use this file except in compliance with the License.\n",
    "# You may obtain a copy of the License at\n",
    "#\n",
    "# https://www.apache.org/licenses/LICENSE-2.0\n",
    "#\n",
    "# Unless required by applicable law or agreed to in writing, software\n",
    "# distributed under the License is distributed on an \"AS IS\" BASIS,\n",
    "# WITHOUT WARRANTIES OR CONDITIONS OF ANY KIND, either express or implied.\n",
    "# See the License for the specific language governing permissions and\n",
    "# limitations under the License."
   ]
  },
  {
   "cell_type": "code",
   "execution_count": 4,
   "metadata": {
    "colab": {},
    "colab_type": "code",
    "id": "D1J15Vh_1Jih"
   },
   "outputs": [
    {
     "name": "stdout",
     "output_type": "stream",
     "text": [
      "Collecting tf-nightly-2.0-preview\n",
      "\u001b[31m  ERROR: Could not find a version that satisfies the requirement tf-nightly-2.0-preview (from versions: none)\u001b[0m\n",
      "\u001b[31mERROR: No matching distribution found for tf-nightly-2.0-preview\u001b[0m\n"
     ]
    }
   ],
   "source": [
    "!pip install tf-nightly-2.0-preview"
   ]
  },
  {
   "cell_type": "code",
   "execution_count": 3,
   "metadata": {
    "colab": {
     "base_uri": "https://localhost:8080/",
     "height": 35
    },
    "colab_type": "code",
    "id": "BOjujz601HcS",
    "outputId": "aa0651c4-b24e-4e1e-936c-e31004fa751b"
   },
   "outputs": [
    {
     "name": "stdout",
     "output_type": "stream",
     "text": [
      "2.2.0\n"
     ]
    }
   ],
   "source": [
    "import tensorflow as tf\n",
    "import numpy as np\n",
    "import matplotlib.pyplot as plt\n",
    "print(tf.__version__)"
   ]
  },
  {
   "cell_type": "code",
   "execution_count": 9,
   "metadata": {
    "colab": {},
    "colab_type": "code",
    "id": "Zswl7jRtGzkk"
   },
   "outputs": [],
   "source": [
    "# 模拟生成时间序列\n",
    "def plot_series(time, series, format=\"-\", start=0, end=None):\n",
    "    plt.plot(time[start:end], series[start:end], format)\n",
    "    plt.xlabel(\"Time\")\n",
    "    plt.ylabel(\"Value\")\n",
    "    plt.grid(True)\n",
    "\n",
    "def trend(time, slope=0):\n",
    "    return slope * time\n",
    "\n",
    "def seasonal_pattern(season_time):\n",
    "    \"\"\"Just an arbitrary pattern, you can change it if you wish\"\"\"\n",
    "    return np.where(season_time < 0.4,\n",
    "                    np.cos(season_time * 2 * np.pi),\n",
    "                    1 / np.exp(3 * season_time))\n",
    "\n",
    "def seasonality(time, period, amplitude=1, phase=0):\n",
    "    \"\"\"Repeats the same pattern at each period\"\"\"\n",
    "    season_time = ((time + phase) % period) / period\n",
    "    return amplitude * seasonal_pattern(season_time)\n",
    "\n",
    "def noise(time, noise_level=1, seed=None):\n",
    "    rnd = np.random.RandomState(seed)\n",
    "    return rnd.randn(len(time)) * noise_level\n",
    "\n",
    "time = np.arange(4 * 365 + 1, dtype=\"float32\")\n",
    "baseline = 10\n",
    "series = trend(time, 0.1)  \n",
    "baseline = 10\n",
    "amplitude = 40\n",
    "slope = 0.05\n",
    "noise_level = 5\n",
    "\n",
    "# Create the series\n",
    "series = baseline + trend(time, slope) + seasonality(time, period=365, amplitude=amplitude)\n",
    "# Update with noise\n",
    "series += noise(time, noise_level, seed=42)\n",
    "\n",
    "split_time = 1000\n",
    "time_train = time[:split_time]\n",
    "x_train = series[:split_time]\n",
    "time_valid = time[split_time:]\n",
    "x_valid = series[split_time:]\n",
    "\n",
    "window_size = 20\n",
    "batch_size = 32\n",
    "shuffle_buffer_size = 1000"
   ]
  },
  {
   "cell_type": "code",
   "execution_count": 10,
   "metadata": {
    "colab": {},
    "colab_type": "code",
    "id": "4sTTIOCbyShY"
   },
   "outputs": [],
   "source": [
    "# 模拟生成数据集\n",
    "def windowed_dataset(series, window_size, batch_size, shuffle_buffer):\n",
    "  dataset = tf.data.Dataset.from_tensor_slices(series)\n",
    "  dataset = dataset.window(window_size + 1, shift=1, drop_remainder=True)\n",
    "  dataset = dataset.flat_map(lambda window: window.batch(window_size + 1))\n",
    "  dataset = dataset.shuffle(shuffle_buffer).map(lambda window: (window[:-1], window[-1]))\n",
    "  dataset = dataset.batch(batch_size).prefetch(1)\n",
    "  return dataset"
   ]
  },
  {
   "cell_type": "code",
   "execution_count": 11,
   "metadata": {
    "colab": {
     "base_uri": "https://localhost:8080/",
     "height": 1000
    },
    "colab_type": "code",
    "id": "A1Hl39rklkLm",
    "outputId": "75cbaf63-f635-4dd1-96fd-b4e1d6fd94bb"
   },
   "outputs": [
    {
     "name": "stdout",
     "output_type": "stream",
     "text": [
      "Epoch 1/100\n",
      "31/31 [==============================] - 1s 17ms/step - loss: 21.5167 - mae: 22.0115 - lr: 1.0000e-08\n",
      "Epoch 2/100\n",
      "31/31 [==============================] - 0s 14ms/step - loss: 21.1522 - mae: 21.6444 - lr: 1.1220e-08\n",
      "Epoch 3/100\n",
      "31/31 [==============================] - 0s 15ms/step - loss: 20.7302 - mae: 21.2236 - lr: 1.2589e-08\n",
      "Epoch 4/100\n",
      "31/31 [==============================] - 0s 14ms/step - loss: 20.2834 - mae: 20.7757 - lr: 1.4125e-08\n",
      "Epoch 5/100\n",
      "31/31 [==============================] - 0s 13ms/step - loss: 19.7897 - mae: 20.2855 - lr: 1.5849e-08\n",
      "Epoch 6/100\n",
      "31/31 [==============================] - 0s 13ms/step - loss: 19.1782 - mae: 19.6696 - lr: 1.7783e-08\n",
      "Epoch 7/100\n",
      "31/31 [==============================] - 0s 13ms/step - loss: 18.2410 - mae: 18.7333 - lr: 1.9953e-08\n",
      "Epoch 8/100\n",
      "31/31 [==============================] - 0s 13ms/step - loss: 17.4825 - mae: 17.9748 - lr: 2.2387e-08\n",
      "Epoch 9/100\n",
      "31/31 [==============================] - 0s 13ms/step - loss: 17.1597 - mae: 17.6529 - lr: 2.5119e-08\n",
      "Epoch 10/100\n",
      "31/31 [==============================] - 0s 14ms/step - loss: 16.8547 - mae: 17.3463 - lr: 2.8184e-08\n",
      "Epoch 11/100\n",
      "31/31 [==============================] - 0s 14ms/step - loss: 16.5533 - mae: 17.0471 - lr: 3.1623e-08\n",
      "Epoch 12/100\n",
      "31/31 [==============================] - 0s 13ms/step - loss: 16.2565 - mae: 16.7524 - lr: 3.5481e-08\n",
      "Epoch 13/100\n",
      "31/31 [==============================] - 0s 13ms/step - loss: 15.9629 - mae: 16.4598 - lr: 3.9811e-08\n",
      "Epoch 14/100\n",
      "31/31 [==============================] - 0s 13ms/step - loss: 15.6593 - mae: 16.1548 - lr: 4.4668e-08\n",
      "Epoch 15/100\n",
      "31/31 [==============================] - 0s 14ms/step - loss: 15.3713 - mae: 15.8652 - lr: 5.0119e-08\n",
      "Epoch 16/100\n",
      "31/31 [==============================] - 0s 14ms/step - loss: 15.0752 - mae: 15.5697 - lr: 5.6234e-08\n",
      "Epoch 17/100\n",
      "31/31 [==============================] - 0s 15ms/step - loss: 14.7905 - mae: 15.2869 - lr: 6.3096e-08\n",
      "Epoch 18/100\n",
      "31/31 [==============================] - 0s 14ms/step - loss: 14.5229 - mae: 15.0178 - lr: 7.0795e-08\n",
      "Epoch 19/100\n",
      "31/31 [==============================] - 0s 13ms/step - loss: 14.2707 - mae: 14.7636 - lr: 7.9433e-08\n",
      "Epoch 20/100\n",
      "31/31 [==============================] - 0s 13ms/step - loss: 14.0293 - mae: 14.5217 - lr: 8.9125e-08\n",
      "Epoch 21/100\n",
      "31/31 [==============================] - 0s 13ms/step - loss: 13.8191 - mae: 14.3135 - lr: 1.0000e-07\n",
      "Epoch 22/100\n",
      "31/31 [==============================] - 0s 13ms/step - loss: 13.6084 - mae: 14.1032 - lr: 1.1220e-07\n",
      "Epoch 23/100\n",
      "31/31 [==============================] - 0s 14ms/step - loss: 13.4096 - mae: 13.9038 - lr: 1.2589e-07\n",
      "Epoch 24/100\n",
      "31/31 [==============================] - 1s 16ms/step - loss: 13.1859 - mae: 13.6794 - lr: 1.4125e-07\n",
      "Epoch 25/100\n",
      "31/31 [==============================] - 0s 13ms/step - loss: 12.9819 - mae: 13.4747 - lr: 1.5849e-07\n",
      "Epoch 26/100\n",
      "31/31 [==============================] - 0s 14ms/step - loss: 12.7278 - mae: 13.2184 - lr: 1.7783e-07\n",
      "Epoch 27/100\n",
      "31/31 [==============================] - 0s 14ms/step - loss: 12.4886 - mae: 12.9799 - lr: 1.9953e-07\n",
      "Epoch 28/100\n",
      "31/31 [==============================] - 0s 14ms/step - loss: 12.3459 - mae: 12.8362 - lr: 2.2387e-07\n",
      "Epoch 29/100\n",
      "31/31 [==============================] - 0s 14ms/step - loss: 11.9127 - mae: 12.4017 - lr: 2.5119e-07\n",
      "Epoch 30/100\n",
      "31/31 [==============================] - 0s 13ms/step - loss: 11.5934 - mae: 12.0835 - lr: 2.8184e-07\n",
      "Epoch 31/100\n",
      "31/31 [==============================] - 0s 13ms/step - loss: 11.2859 - mae: 11.7771 - lr: 3.1623e-07\n",
      "Epoch 32/100\n",
      "31/31 [==============================] - 0s 14ms/step - loss: 11.3520 - mae: 11.8418 - lr: 3.5481e-07\n",
      "Epoch 33/100\n",
      "31/31 [==============================] - 0s 14ms/step - loss: 10.5232 - mae: 11.0140 - lr: 3.9811e-07\n",
      "Epoch 34/100\n",
      "31/31 [==============================] - 0s 15ms/step - loss: 10.5447 - mae: 11.0325 - lr: 4.4668e-07\n",
      "Epoch 35/100\n",
      "31/31 [==============================] - 0s 14ms/step - loss: 10.0746 - mae: 10.5595 - lr: 5.0119e-07\n",
      "Epoch 36/100\n",
      "31/31 [==============================] - 0s 13ms/step - loss: 9.4727 - mae: 9.9614 - lr: 5.6234e-07\n",
      "Epoch 37/100\n",
      "31/31 [==============================] - 0s 14ms/step - loss: 10.0586 - mae: 10.5491 - lr: 6.3096e-07\n",
      "Epoch 38/100\n",
      "31/31 [==============================] - 0s 13ms/step - loss: 9.6620 - mae: 10.1492 - lr: 7.0795e-07\n",
      "Epoch 39/100\n",
      "31/31 [==============================] - 0s 13ms/step - loss: 9.1771 - mae: 9.6615 - lr: 7.9433e-07\n",
      "Epoch 40/100\n",
      "31/31 [==============================] - 0s 12ms/step - loss: 8.7433 - mae: 9.2295 - lr: 8.9125e-07\n",
      "Epoch 41/100\n",
      "31/31 [==============================] - 0s 12ms/step - loss: 8.3262 - mae: 8.8113 - lr: 1.0000e-06\n",
      "Epoch 42/100\n",
      "31/31 [==============================] - 0s 13ms/step - loss: 7.9833 - mae: 8.4668 - lr: 1.1220e-06\n",
      "Epoch 43/100\n",
      "31/31 [==============================] - 0s 13ms/step - loss: 7.6556 - mae: 8.1415 - lr: 1.2589e-06\n",
      "Epoch 44/100\n",
      "31/31 [==============================] - 0s 15ms/step - loss: 7.3912 - mae: 7.8775 - lr: 1.4125e-06\n",
      "Epoch 45/100\n",
      "31/31 [==============================] - 0s 13ms/step - loss: 7.2120 - mae: 7.6956 - lr: 1.5849e-06\n",
      "Epoch 46/100\n",
      "31/31 [==============================] - 0s 13ms/step - loss: 6.9068 - mae: 7.3907 - lr: 1.7783e-06\n",
      "Epoch 47/100\n",
      "31/31 [==============================] - 0s 13ms/step - loss: 6.6889 - mae: 7.1726 - lr: 1.9953e-06\n",
      "Epoch 48/100\n",
      "31/31 [==============================] - 0s 13ms/step - loss: 6.5799 - mae: 7.0618 - lr: 2.2387e-06\n",
      "Epoch 49/100\n",
      "31/31 [==============================] - 0s 14ms/step - loss: 6.2154 - mae: 6.6920 - lr: 2.5119e-06\n",
      "Epoch 50/100\n",
      "31/31 [==============================] - 0s 15ms/step - loss: 6.0434 - mae: 6.5219 - lr: 2.8184e-06\n",
      "Epoch 51/100\n",
      "31/31 [==============================] - 0s 14ms/step - loss: 5.9134 - mae: 6.3911 - lr: 3.1623e-06\n",
      "Epoch 52/100\n",
      "31/31 [==============================] - 0s 13ms/step - loss: 5.7809 - mae: 6.2624 - lr: 3.5481e-06\n",
      "Epoch 53/100\n",
      "31/31 [==============================] - 0s 14ms/step - loss: 5.6346 - mae: 6.1150 - lr: 3.9811e-06\n",
      "Epoch 54/100\n",
      "31/31 [==============================] - 0s 14ms/step - loss: 5.5273 - mae: 6.0022 - lr: 4.4668e-06\n",
      "Epoch 55/100\n",
      "31/31 [==============================] - 0s 13ms/step - loss: 5.4035 - mae: 5.8749 - lr: 5.0119e-06\n",
      "Epoch 56/100\n",
      "31/31 [==============================] - 0s 13ms/step - loss: 5.5641 - mae: 6.0361 - lr: 5.6234e-06\n",
      "Epoch 57/100\n",
      "31/31 [==============================] - 0s 13ms/step - loss: 5.2958 - mae: 5.7738 - lr: 6.3096e-06\n",
      "Epoch 58/100\n",
      "31/31 [==============================] - 0s 13ms/step - loss: 5.2829 - mae: 5.7638 - lr: 7.0795e-06\n",
      "Epoch 59/100\n",
      "31/31 [==============================] - 0s 14ms/step - loss: 5.1410 - mae: 5.6200 - lr: 7.9433e-06\n",
      "Epoch 60/100\n",
      "31/31 [==============================] - 0s 13ms/step - loss: 5.0451 - mae: 5.5172 - lr: 8.9125e-06\n",
      "Epoch 61/100\n",
      "31/31 [==============================] - 0s 13ms/step - loss: 5.3098 - mae: 5.7868 - lr: 1.0000e-05\n",
      "Epoch 62/100\n",
      "31/31 [==============================] - 0s 13ms/step - loss: 5.2083 - mae: 5.6865 - lr: 1.1220e-05\n",
      "Epoch 63/100\n",
      "31/31 [==============================] - 0s 13ms/step - loss: 5.1031 - mae: 5.5791 - lr: 1.2589e-05\n",
      "Epoch 64/100\n",
      "31/31 [==============================] - 0s 13ms/step - loss: 4.8386 - mae: 5.3111 - lr: 1.4125e-05\n",
      "Epoch 65/100\n",
      "31/31 [==============================] - 0s 15ms/step - loss: 5.1564 - mae: 5.6392 - lr: 1.5849e-05\n",
      "Epoch 66/100\n",
      "31/31 [==============================] - 0s 16ms/step - loss: 5.3920 - mae: 5.8758 - lr: 1.7783e-05\n",
      "Epoch 67/100\n",
      "31/31 [==============================] - 0s 14ms/step - loss: 6.0050 - mae: 6.4846 - lr: 1.9953e-05\n",
      "Epoch 68/100\n",
      "31/31 [==============================] - 1s 16ms/step - loss: 5.2232 - mae: 5.7050 - lr: 2.2387e-05\n",
      "Epoch 69/100\n",
      "31/31 [==============================] - 0s 15ms/step - loss: 5.6486 - mae: 6.1296 - lr: 2.5119e-05\n",
      "Epoch 70/100\n",
      "31/31 [==============================] - 0s 14ms/step - loss: 5.2164 - mae: 5.6983 - lr: 2.8184e-05\n",
      "Epoch 71/100\n",
      "31/31 [==============================] - 0s 15ms/step - loss: 5.4763 - mae: 5.9580 - lr: 3.1623e-05\n",
      "Epoch 72/100\n",
      "31/31 [==============================] - 0s 12ms/step - loss: 5.0140 - mae: 5.4922 - lr: 3.5481e-05\n",
      "Epoch 73/100\n",
      "31/31 [==============================] - 0s 14ms/step - loss: 6.3982 - mae: 6.8836 - lr: 3.9811e-05\n",
      "Epoch 74/100\n",
      "31/31 [==============================] - 0s 12ms/step - loss: 5.3285 - mae: 5.8072 - lr: 4.4668e-05\n",
      "Epoch 75/100\n",
      "31/31 [==============================] - 0s 14ms/step - loss: 5.4403 - mae: 5.9198 - lr: 5.0119e-05\n",
      "Epoch 76/100\n",
      "31/31 [==============================] - 0s 13ms/step - loss: 5.1077 - mae: 5.5868 - lr: 5.6234e-05\n",
      "Epoch 77/100\n",
      "31/31 [==============================] - 0s 13ms/step - loss: 5.8137 - mae: 6.2975 - lr: 6.3096e-05\n",
      "Epoch 78/100\n",
      "31/31 [==============================] - 0s 13ms/step - loss: 5.5904 - mae: 6.0721 - lr: 7.0795e-05\n",
      "Epoch 79/100\n",
      "31/31 [==============================] - 0s 14ms/step - loss: 5.2263 - mae: 5.7086 - lr: 7.9433e-05\n",
      "Epoch 80/100\n",
      "31/31 [==============================] - 0s 13ms/step - loss: 5.1805 - mae: 5.6592 - lr: 8.9125e-05\n",
      "Epoch 81/100\n",
      "31/31 [==============================] - 0s 14ms/step - loss: 6.7440 - mae: 7.2308 - lr: 1.0000e-04\n",
      "Epoch 82/100\n",
      "31/31 [==============================] - 0s 14ms/step - loss: 6.7740 - mae: 7.2576 - lr: 1.1220e-04\n",
      "Epoch 83/100\n",
      "31/31 [==============================] - 0s 13ms/step - loss: 5.5517 - mae: 6.0343 - lr: 1.2589e-04\n",
      "Epoch 84/100\n",
      "31/31 [==============================] - 0s 13ms/step - loss: 7.9432 - mae: 8.4277 - lr: 1.4125e-04\n",
      "Epoch 85/100\n",
      "31/31 [==============================] - 0s 14ms/step - loss: 6.1820 - mae: 6.6665 - lr: 1.5849e-04\n",
      "Epoch 86/100\n",
      "31/31 [==============================] - 0s 13ms/step - loss: 6.3352 - mae: 6.8214 - lr: 1.7783e-04\n",
      "Epoch 87/100\n",
      "31/31 [==============================] - 0s 14ms/step - loss: 7.5664 - mae: 8.0527 - lr: 1.9953e-04\n",
      "Epoch 88/100\n",
      "31/31 [==============================] - 0s 15ms/step - loss: 7.0964 - mae: 7.5803 - lr: 2.2387e-04\n",
      "Epoch 89/100\n",
      "31/31 [==============================] - 0s 13ms/step - loss: 7.3196 - mae: 7.8087 - lr: 2.5119e-04\n",
      "Epoch 90/100\n",
      "31/31 [==============================] - 0s 15ms/step - loss: 7.0402 - mae: 7.5266 - lr: 2.8184e-04\n",
      "Epoch 91/100\n",
      "31/31 [==============================] - 0s 12ms/step - loss: 10.6863 - mae: 11.1743 - lr: 3.1623e-04\n",
      "Epoch 92/100\n",
      "31/31 [==============================] - 0s 13ms/step - loss: 8.1726 - mae: 8.6610 - lr: 3.5481e-04\n",
      "Epoch 93/100\n",
      "31/31 [==============================] - 0s 13ms/step - loss: 9.5975 - mae: 10.0856 - lr: 3.9811e-04\n",
      "Epoch 94/100\n",
      "31/31 [==============================] - 0s 14ms/step - loss: 8.3580 - mae: 8.8484 - lr: 4.4668e-04\n",
      "Epoch 95/100\n",
      "31/31 [==============================] - 0s 14ms/step - loss: 8.3152 - mae: 8.8047 - lr: 5.0119e-04\n",
      "Epoch 96/100\n",
      "31/31 [==============================] - 0s 13ms/step - loss: 9.3985 - mae: 9.8887 - lr: 5.6234e-04\n",
      "Epoch 97/100\n",
      "31/31 [==============================] - 0s 14ms/step - loss: 10.3721 - mae: 10.8631 - lr: 6.3096e-04\n",
      "Epoch 98/100\n",
      "31/31 [==============================] - 0s 13ms/step - loss: 10.9611 - mae: 11.4520 - lr: 7.0795e-04\n",
      "Epoch 99/100\n",
      "31/31 [==============================] - 0s 13ms/step - loss: 13.1758 - mae: 13.6690 - lr: 7.9433e-04\n",
      "Epoch 100/100\n",
      "31/31 [==============================] - 0s 14ms/step - loss: 12.5551 - mae: 13.0484 - lr: 8.9125e-04\n"
     ]
    }
   ],
   "source": [
    "# 搭建双向LSTM神经网络，使用LR_scheduler机制调整学习率\n",
    "\n",
    "tf.keras.backend.clear_session()\n",
    "tf.random.set_seed(51)\n",
    "np.random.seed(51)\n",
    "\n",
    "tf.keras.backend.clear_session()\n",
    "dataset = windowed_dataset(x_train, window_size, batch_size, shuffle_buffer_size)\n",
    "\n",
    "model = tf.keras.models.Sequential([\n",
    "  tf.keras.layers.Lambda(lambda x: tf.expand_dims(x, axis=-1),\n",
    "                      input_shape=[None]),\n",
    "  tf.keras.layers.Bidirectional(tf.keras.layers.LSTM(32, return_sequences=True)),\n",
    "  tf.keras.layers.Bidirectional(tf.keras.layers.LSTM(32)),\n",
    "  tf.keras.layers.Dense(1),\n",
    "  tf.keras.layers.Lambda(lambda x: x * 100.0)\n",
    "])\n",
    "\n",
    "lr_schedule = tf.keras.callbacks.LearningRateScheduler(\n",
    "    lambda epoch: 1e-8 * 10**(epoch / 20))\n",
    "optimizer = tf.keras.optimizers.SGD(lr=1e-8, momentum=0.9)\n",
    "model.compile(loss=tf.keras.losses.Huber(),\n",
    "              optimizer=optimizer,\n",
    "              metrics=[\"mae\"])\n",
    "history = model.fit(dataset, epochs=100, callbacks=[lr_schedule])"
   ]
  },
  {
   "cell_type": "code",
   "execution_count": 12,
   "metadata": {
    "colab": {
     "base_uri": "https://localhost:8080/",
     "height": 291
    },
    "colab_type": "code",
    "id": "AkBsrsXMzoWR",
    "outputId": "99a3f57b-9145-4802-8256-401a54b238e7"
   },
   "outputs": [
    {
     "data": {
      "text/plain": [
       "(1e-08, 0.0001, 0.0, 30.0)"
      ]
     },
     "execution_count": 12,
     "metadata": {},
     "output_type": "execute_result"
    },
    {
     "data": {
      "image/png": "[encoded data removed]",
      "text/plain": [
       "<Figure size 432x288 with 1 Axes>"
      ]
     },
     "metadata": {
      "needs_background": "light"
     },
     "output_type": "display_data"
    }
   ],
   "source": [
    "plt.semilogx(history.history[\"lr\"], history.history[\"loss\"])\n",
    "plt.axis([1e-8, 1e-4, 0, 30])"
   ]
  },
  {
   "cell_type": "code",
   "execution_count": 13,
   "metadata": {
    "colab": {},
    "colab_type": "code",
    "id": "4uh-97bpLZCA"
   },
   "outputs": [],
   "source": [
    "# 搭建双向LSTM神经网络，对学习率不作处理\n",
    "tf.keras.backend.clear_session()\n",
    "tf.random.set_seed(51)\n",
    "np.random.seed(51)\n",
    "\n",
    "tf.keras.backend.clear_session()\n",
    "dataset = windowed_dataset(x_train, window_size, batch_size, shuffle_buffer_size)\n",
    "\n",
    "model = tf.keras.models.Sequential([\n",
    "  tf.keras.layers.Lambda(lambda x: tf.expand_dims(x, axis=-1),\n",
    "                      input_shape=[None]),\n",
    "   tf.keras.layers.Bidirectional(tf.keras.layers.LSTM(32, return_sequences=True)),\n",
    "  tf.keras.layers.Bidirectional(tf.keras.layers.LSTM(32)),\n",
    "  tf.keras.layers.Dense(1),\n",
    "  tf.keras.layers.Lambda(lambda x: x * 100.0)\n",
    "])\n",
    "\n",
    "\n",
    "model.compile(loss=\"mse\", optimizer=tf.keras.optimizers.SGD(lr=1e-5, momentum=0.9),metrics=[\"mae\"])\n",
    "history = model.fit(dataset,epochs=100,verbose=0)"
   ]
  },
  {
   "cell_type": "code",
   "execution_count": 14,
   "metadata": {
    "colab": {
     "base_uri": "https://localhost:8080/",
     "height": 393
    },
    "colab_type": "code",
    "id": "icGDaND7z0ne",
    "outputId": "58b69d1a-82d2-457b-9342-42ceb24b35da"
   },
   "outputs": [
    {
     "data": {
      "image/png": "[encoded data removed]",
      "text/plain": [
       "<Figure size 720x432 with 1 Axes>"
      ]
     },
     "metadata": {
      "needs_background": "light"
     },
     "output_type": "display_data"
    }
   ],
   "source": [
    "forecast = []\n",
    "results = []\n",
    "for time in range(len(series) - window_size):\n",
    "  forecast.append(model.predict(series[time:time + window_size][np.newaxis]))\n",
    "\n",
    "forecast = forecast[split_time-window_size:]\n",
    "results = np.array(forecast)[:, 0, 0]\n",
    "\n",
    "\n",
    "plt.figure(figsize=(10, 6))\n",
    "\n",
    "plot_series(time_valid, x_valid)\n",
    "plot_series(time_valid, results)"
   ]
  },
  {
   "cell_type": "code",
   "execution_count": 15,
   "metadata": {
    "colab": {
     "base_uri": "https://localhost:8080/",
     "height": 35
    },
    "colab_type": "code",
    "id": "KfPeqI7rz4LD",
    "outputId": "816335be-fd2a-428f-98d6-05983b84d9b5"
   },
   "outputs": [
    {
     "data": {
      "text/plain": [
       "7.344548"
      ]
     },
     "execution_count": 15,
     "metadata": {},
     "output_type": "execute_result"
    }
   ],
   "source": [
    "# 结果对比，计算误差loss和平均绝对误差MAE\n",
    "tf.keras.metrics.mean_absolute_error(x_valid, results).numpy()"
   ]
  },
  {
   "cell_type": "code",
   "execution_count": 19,
   "metadata": {
    "colab": {
     "base_uri": "https://localhost:8080/",
     "height": 235
    },
    "colab_type": "code",
    "id": "JUsdZB_tzDLe",
    "outputId": "964c47d9-7eec-42cd-905f-c45c2fd31d9e"
   },
   "outputs": [
    {
     "data": {
      "text/plain": [
       "<Figure size 432x288 with 0 Axes>"
      ]
     },
     "execution_count": 19,
     "metadata": {},
     "output_type": "execute_result"
    },
    {
     "data": {
      "image/png": "[encoded data removed]",
      "text/plain": [
       "<Figure size 432x288 with 1 Axes>"
      ]
     },
     "metadata": {
      "needs_background": "light"
     },
     "output_type": "display_data"
    },
    {
     "data": {
      "image/png": "[encoded data removed]",
      "text/plain": [
       "<Figure size 432x288 with 1 Axes>"
      ]
     },
     "metadata": {
      "needs_background": "light"
     },
     "output_type": "display_data"
    },
    {
     "data": {
      "text/plain": [
       "<Figure size 432x288 with 0 Axes>"
      ]
     },
     "metadata": {},
     "output_type": "display_data"
    }
   ],
   "source": [
    "import matplotlib.image  as mpimg\n",
    "import matplotlib.pyplot as plt\n",
    "\n",
    "#-----------------------------------------------------------\n",
    "# Retrieve a list of list results on training and test data\n",
    "# sets for each training epoch\n",
    "#-----------------------------------------------------------\n",
    "mae=history.history['mae']\n",
    "loss=history.history['loss']\n",
    "\n",
    "epochs=range(len(loss)) # Get number of epochs\n",
    "\n",
    "#------------------------------------------------\n",
    "# Plot MAE and Loss\n",
    "#------------------------------------------------\n",
    "plt.plot(epochs, mae, 'r')\n",
    "plt.plot(epochs, loss, 'b')\n",
    "plt.title('MAE and Loss')\n",
    "plt.xlabel(\"Epochs\")\n",
    "plt.ylabel(\"Accuracy\")\n",
    "plt.legend([\"MAE\", \"Loss\"])\n",
    "\n",
    "plt.figure()\n",
    "\n",
    "epochs_zoom = epochs[20:]\n",
    "mae_zoom = mae[20:]\n",
    "loss_zoom = loss[20:]\n",
    "\n",
    "#------------------------------------------------\n",
    "# Plot Zoomed MAE and Loss\n",
    "#------------------------------------------------\n",
    "plt.plot(epochs_zoom, mae_zoom, 'r')\n",
    "plt.plot(epochs_zoom, loss_zoom, 'b')\n",
    "plt.title('MAE and Loss')\n",
    "plt.xlabel(\"Epochs\")\n",
    "plt.ylabel(\"Accuracy\")\n",
    "plt.legend([\"MAE\", \"Loss\"])\n",
    "\n",
    "plt.figure()"
   ]
  },
  {
   "cell_type": "code",
   "execution_count": 17,
   "metadata": {
    "colab": {},
    "colab_type": "code",
    "id": "3CGaYFxXNEAK"
   },
   "outputs": [
    {
     "data": {
      "text/plain": [
       "<tensorflow.python.keras.callbacks.History at 0x7fadaed16160>"
      ]
     },
     "execution_count": 17,
     "metadata": {},
     "output_type": "execute_result"
    }
   ],
   "source": [
    "# 调整不同的学习率和神经网络层数来训练\n",
    "tf.keras.backend.clear_session()\n",
    "dataset = windowed_dataset(x_train, window_size, batch_size, shuffle_buffer_size)\n",
    "\n",
    "model = tf.keras.models.Sequential([\n",
    "  tf.keras.layers.Lambda(lambda x: tf.expand_dims(x, axis=-1),\n",
    "                      input_shape=[None]),\n",
    "  tf.keras.layers.Bidirectional(tf.keras.layers.LSTM(32, return_sequences=True)),\n",
    "  tf.keras.layers.Bidirectional(tf.keras.layers.LSTM(32)),\n",
    "  tf.keras.layers.Dense(1),\n",
    "  tf.keras.layers.Lambda(lambda x: x * 100.0)\n",
    "])\n",
    "\n",
    "\n",
    "model.compile(loss=\"mse\", optimizer=tf.keras.optimizers.SGD(lr=1e-6, momentum=0.9))\n",
    "model.fit(dataset,epochs=100, verbose=0)"
   ]
  },
  {
   "cell_type": "code",
   "execution_count": 18,
   "metadata": {
    "colab": {},
    "colab_type": "code",
    "id": "FJ3R8ysauz9e"
   },
   "outputs": [
    {
     "name": "stdout",
     "output_type": "stream",
     "text": [
      "Epoch 1/100\n",
      "31/31 [==============================] - 1s 21ms/step - loss: 755.7012\n",
      "Epoch 2/100\n",
      "31/31 [==============================] - 1s 22ms/step - loss: 152.7785\n",
      "Epoch 3/100\n",
      "31/31 [==============================] - 1s 21ms/step - loss: 97.9761\n",
      "Epoch 4/100\n",
      "31/31 [==============================] - 1s 23ms/step - loss: 83.2915\n",
      "Epoch 5/100\n",
      "31/31 [==============================] - 1s 24ms/step - loss: 78.2600\n",
      "Epoch 6/100\n",
      "31/31 [==============================] - 1s 21ms/step - loss: 73.4347\n",
      "Epoch 7/100\n",
      "31/31 [==============================] - 1s 22ms/step - loss: 67.8632\n",
      "Epoch 8/100\n",
      "31/31 [==============================] - 1s 24ms/step - loss: 74.5354\n",
      "Epoch 9/100\n",
      "31/31 [==============================] - 1s 25ms/step - loss: 73.1458\n",
      "Epoch 10/100\n",
      "31/31 [==============================] - 1s 23ms/step - loss: 63.4809\n",
      "Epoch 11/100\n",
      "31/31 [==============================] - 1s 22ms/step - loss: 60.9757\n",
      "Epoch 12/100\n",
      "31/31 [==============================] - 1s 22ms/step - loss: 57.7044\n",
      "Epoch 13/100\n",
      "31/31 [==============================] - 1s 23ms/step - loss: 62.4454\n",
      "Epoch 14/100\n",
      "31/31 [==============================] - 1s 23ms/step - loss: 56.6497\n",
      "Epoch 15/100\n",
      "31/31 [==============================] - 1s 22ms/step - loss: 53.2329\n",
      "Epoch 16/100\n",
      "31/31 [==============================] - 1s 23ms/step - loss: 65.0537\n",
      "Epoch 17/100\n",
      "31/31 [==============================] - 1s 22ms/step - loss: 58.6710\n",
      "Epoch 18/100\n",
      "31/31 [==============================] - 1s 23ms/step - loss: 60.0726\n",
      "Epoch 19/100\n",
      "31/31 [==============================] - 1s 23ms/step - loss: 56.1999\n",
      "Epoch 20/100\n",
      "31/31 [==============================] - 1s 22ms/step - loss: 55.7786\n",
      "Epoch 21/100\n",
      "31/31 [==============================] - 1s 22ms/step - loss: 51.2688\n",
      "Epoch 22/100\n",
      "31/31 [==============================] - 1s 22ms/step - loss: 54.9552\n",
      "Epoch 23/100\n",
      "31/31 [==============================] - 1s 21ms/step - loss: 51.5539\n",
      "Epoch 24/100\n",
      "31/31 [==============================] - 1s 22ms/step - loss: 55.4753\n",
      "Epoch 25/100\n",
      "31/31 [==============================] - 1s 25ms/step - loss: 48.4559\n",
      "Epoch 26/100\n",
      "31/31 [==============================] - 1s 23ms/step - loss: 54.2121\n",
      "Epoch 27/100\n",
      "31/31 [==============================] - 1s 21ms/step - loss: 54.4619\n",
      "Epoch 28/100\n",
      "31/31 [==============================] - 1s 21ms/step - loss: 54.1912\n",
      "Epoch 29/100\n",
      "31/31 [==============================] - 1s 23ms/step - loss: 48.2903\n",
      "Epoch 30/100\n",
      "31/31 [==============================] - 1s 22ms/step - loss: 49.6825\n",
      "Epoch 31/100\n",
      "31/31 [==============================] - 1s 21ms/step - loss: 53.0422\n",
      "Epoch 32/100\n",
      "31/31 [==============================] - 1s 21ms/step - loss: 56.4042\n",
      "Epoch 33/100\n",
      "31/31 [==============================] - 1s 22ms/step - loss: 47.9185\n",
      "Epoch 34/100\n",
      "31/31 [==============================] - 1s 24ms/step - loss: 50.2060\n",
      "Epoch 35/100\n",
      "31/31 [==============================] - 1s 24ms/step - loss: 48.2373\n",
      "Epoch 36/100\n",
      "31/31 [==============================] - 1s 26ms/step - loss: 47.5874\n",
      "Epoch 37/100\n",
      "31/31 [==============================] - 1s 23ms/step - loss: 53.0302\n",
      "Epoch 38/100\n",
      "31/31 [==============================] - 1s 24ms/step - loss: 47.7121\n",
      "Epoch 39/100\n",
      "31/31 [==============================] - 1s 24ms/step - loss: 47.2859\n",
      "Epoch 40/100\n",
      "31/31 [==============================] - 1s 21ms/step - loss: 48.6493\n",
      "Epoch 41/100\n",
      "31/31 [==============================] - 1s 21ms/step - loss: 46.0403\n",
      "Epoch 42/100\n",
      "31/31 [==============================] - 1s 21ms/step - loss: 49.4847\n",
      "Epoch 43/100\n",
      "31/31 [==============================] - 1s 22ms/step - loss: 48.2804\n",
      "Epoch 44/100\n",
      "31/31 [==============================] - 1s 23ms/step - loss: 51.2779\n",
      "Epoch 45/100\n",
      "31/31 [==============================] - 1s 21ms/step - loss: 48.2863\n",
      "Epoch 46/100\n",
      "31/31 [==============================] - 1s 23ms/step - loss: 51.8344\n",
      "Epoch 47/100\n",
      "31/31 [==============================] - 1s 24ms/step - loss: 49.9794\n",
      "Epoch 48/100\n",
      "31/31 [==============================] - 1s 25ms/step - loss: 45.3264\n",
      "Epoch 49/100\n",
      "31/31 [==============================] - 1s 24ms/step - loss: 45.0664\n",
      "Epoch 50/100\n",
      "31/31 [==============================] - 1s 22ms/step - loss: 45.8870\n",
      "Epoch 51/100\n",
      "31/31 [==============================] - 1s 22ms/step - loss: 49.2073\n",
      "Epoch 52/100\n",
      "31/31 [==============================] - 1s 21ms/step - loss: 50.4170\n",
      "Epoch 53/100\n",
      "31/31 [==============================] - 1s 22ms/step - loss: 50.7224\n",
      "Epoch 54/100\n",
      "31/31 [==============================] - 1s 22ms/step - loss: 44.6063\n",
      "Epoch 55/100\n",
      "31/31 [==============================] - 1s 22ms/step - loss: 47.2966\n",
      "Epoch 56/100\n",
      "31/31 [==============================] - 1s 24ms/step - loss: 46.8540\n",
      "Epoch 57/100\n",
      "31/31 [==============================] - 1s 23ms/step - loss: 46.1015\n",
      "Epoch 58/100\n",
      "31/31 [==============================] - 1s 22ms/step - loss: 45.2351\n",
      "Epoch 59/100\n",
      "31/31 [==============================] - 1s 24ms/step - loss: 45.4370\n",
      "Epoch 60/100\n",
      "31/31 [==============================] - 1s 24ms/step - loss: 46.3429\n",
      "Epoch 61/100\n",
      "31/31 [==============================] - 1s 24ms/step - loss: 46.9665\n",
      "Epoch 62/100\n",
      "31/31 [==============================] - 1s 24ms/step - loss: 46.5664\n",
      "Epoch 63/100\n",
      "31/31 [==============================] - 1s 22ms/step - loss: 45.2381\n",
      "Epoch 64/100\n",
      "31/31 [==============================] - 1s 21ms/step - loss: 45.0082\n",
      "Epoch 65/100\n",
      "31/31 [==============================] - 1s 22ms/step - loss: 44.2408\n",
      "Epoch 66/100\n",
      "31/31 [==============================] - 1s 20ms/step - loss: 43.7104\n",
      "Epoch 67/100\n",
      "31/31 [==============================] - 1s 21ms/step - loss: 44.6086\n",
      "Epoch 68/100\n",
      "31/31 [==============================] - 1s 22ms/step - loss: 48.9862\n",
      "Epoch 69/100\n",
      "31/31 [==============================] - 1s 21ms/step - loss: 49.3742\n",
      "Epoch 70/100\n",
      "31/31 [==============================] - 1s 23ms/step - loss: 48.0163\n",
      "Epoch 71/100\n",
      "31/31 [==============================] - 1s 22ms/step - loss: 43.7251\n",
      "Epoch 72/100\n",
      "31/31 [==============================] - 1s 22ms/step - loss: 46.3182\n",
      "Epoch 73/100\n",
      "31/31 [==============================] - 1s 21ms/step - loss: 45.2350\n",
      "Epoch 74/100\n",
      "31/31 [==============================] - 1s 21ms/step - loss: 43.9390\n",
      "Epoch 75/100\n",
      "31/31 [==============================] - 1s 22ms/step - loss: 45.4765\n",
      "Epoch 76/100\n",
      "31/31 [==============================] - 1s 25ms/step - loss: 46.1003\n",
      "Epoch 77/100\n",
      "31/31 [==============================] - 1s 23ms/step - loss: 45.5499\n",
      "Epoch 78/100\n",
      "31/31 [==============================] - 1s 23ms/step - loss: 44.7749\n",
      "Epoch 79/100\n",
      "31/31 [==============================] - 1s 27ms/step - loss: 44.7592\n",
      "Epoch 80/100\n",
      "31/31 [==============================] - 1s 20ms/step - loss: 51.3417\n",
      "Epoch 81/100\n",
      "31/31 [==============================] - 1s 19ms/step - loss: 53.4107\n",
      "Epoch 82/100\n",
      "31/31 [==============================] - 1s 18ms/step - loss: 45.4838\n",
      "Epoch 83/100\n",
      "31/31 [==============================] - 1s 18ms/step - loss: 45.8837\n",
      "Epoch 84/100\n",
      "31/31 [==============================] - 1s 20ms/step - loss: 46.3762\n",
      "Epoch 85/100\n",
      "31/31 [==============================] - 1s 21ms/step - loss: 44.9510\n",
      "Epoch 86/100\n",
      "31/31 [==============================] - 1s 21ms/step - loss: 43.7665\n",
      "Epoch 87/100\n",
      "31/31 [==============================] - 1s 20ms/step - loss: 51.7506\n",
      "Epoch 88/100\n",
      "31/31 [==============================] - 1s 20ms/step - loss: 46.2335\n",
      "Epoch 89/100\n",
      "31/31 [==============================] - 1s 19ms/step - loss: 48.7304\n",
      "Epoch 90/100\n",
      "31/31 [==============================] - 1s 19ms/step - loss: 45.3579\n",
      "Epoch 91/100\n",
      "31/31 [==============================] - 1s 20ms/step - loss: 53.3695\n",
      "Epoch 92/100\n",
      "31/31 [==============================] - 1s 19ms/step - loss: 44.1400\n",
      "Epoch 93/100\n",
      "31/31 [==============================] - 1s 20ms/step - loss: 43.6139\n",
      "Epoch 94/100\n",
      "31/31 [==============================] - 1s 20ms/step - loss: 46.2337\n",
      "Epoch 95/100\n",
      "31/31 [==============================] - 1s 20ms/step - loss: 44.8032\n",
      "Epoch 96/100\n",
      "31/31 [==============================] - 1s 21ms/step - loss: 44.4877\n",
      "Epoch 97/100\n",
      "31/31 [==============================] - 1s 21ms/step - loss: 44.1543\n",
      "Epoch 98/100\n",
      "31/31 [==============================] - 1s 21ms/step - loss: 44.8083\n",
      "Epoch 99/100\n",
      "31/31 [==============================] - 1s 21ms/step - loss: 45.3499\n",
      "Epoch 100/100\n",
      "31/31 [==============================] - 1s 21ms/step - loss: 46.9555\n"
     ]
    },
    {
     "data": {
      "text/plain": [
       "<tensorflow.python.keras.callbacks.History at 0x7fadac4b39b0>"
      ]
     },
     "execution_count": 18,
     "metadata": {},
     "output_type": "execute_result"
    }
   ],
   "source": [
    "tf.keras.backend.clear_session()\n",
    "dataset = windowed_dataset(x_train, window_size, batch_size, shuffle_buffer_size)\n",
    "\n",
    "model = tf.keras.models.Sequential([\n",
    "  tf.keras.layers.Lambda(lambda x: tf.expand_dims(x, axis=-1),\n",
    "                      input_shape=[None]),\n",
    "  tf.keras.layers.Bidirectional(tf.keras.layers.LSTM(32, return_sequences=True)),\n",
    "  tf.keras.layers.Bidirectional(tf.keras.layers.LSTM(32, return_sequences=True)),\n",
    "  tf.keras.layers.Bidirectional(tf.keras.layers.LSTM(32)),\n",
    "  tf.keras.layers.Dense(1),\n",
    "  tf.keras.layers.Lambda(lambda x: x * 100.0)\n",
    "])\n",
    "\n",
    "\n",
    "model.compile(loss=\"mse\", optimizer=tf.keras.optimizers.SGD(lr=1e-6, momentum=0.9))\n",
    "model.fit(dataset,epochs=100)"
   ]
  }
 ],
 "metadata": {
  "colab": {
   "collapsed_sections": [],
   "name": "S+P Week 3 Lesson 4 - LSTM.ipynb",
   "provenance": [],
   "toc_visible": true,
   "version": "0.3.2"
  },
  "kernelspec": {
   "display_name": "Python 3",
   "language": "python",
   "name": "python3"
  },
  "language_info": {
   "codemirror_mode": {
    "name": "ipython",
    "version": 3
   },
   "file_extension": ".py",
   "mimetype": "text/x-python",
   "name": "python",
   "nbconvert_exporter": "python",
   "pygments_lexer": "ipython3",
   "version": "3.7.3"
  }
 },
 "nbformat": 4,
 "nbformat_minor": 4
}
